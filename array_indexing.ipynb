{
 "cells": [
  {
   "cell_type": "markdown",
   "id": "6b2b3219",
   "metadata": {},
   "source": [
    "# Array indexing exercises\n",
    "\n",
    "These exercises follow on from the [array indexing page](https:/olsonac.github.io/textbook/arrays/array_indexing).\n",
    "\n",
    "Run this cell to start:"
   ]
  },
  {
   "cell_type": "code",
   "execution_count": null,
   "id": "d31e9bd8",
   "metadata": {},
   "outputs": [],
   "source": [
    "# Don't change this cell; just run it.\n",
    "import numpy as np\n",
    "\n",
    "# The OKpy testing system.\n",
    "from client.api.notebook import Notebook\n",
    "ok = Notebook('array_indexing.ok')"
   ]
  },
  {
   "cell_type": "markdown",
   "id": "a7ce10ab",
   "metadata": {},
   "source": [
    "Here is the beginning of Hamlet's famous speech:\n",
    "\n",
    "> To be, or not to be, that is the question:\n",
    "> Whether 'tis nobler in the mind to suffer\n",
    "> The slings and arrows of outrageous fortune,\n",
    "\n",
    "And here is a slightly wrong version, as an array of words, and without the punctuation:"
   ]
  },
  {
   "cell_type": "code",
   "execution_count": null,
   "id": "2fc32131",
   "metadata": {},
   "outputs": [],
   "source": [
    "# A quote that isn't quite right.\n",
    "hamlets_words = np.array(['to', 'be', 'or', 'not', 'to', 'be',\n",
    "                          'that', 'be', 'the', 'question',\n",
    "                          'whether', 'be', 'nobler', 'in', 'the', 'marrow',\n",
    "                          'to', 'suffer', 'the', 'slings', 'and', 'arrows',\n",
    "                          'of', 'outrageous', 'fortune'])\n",
    "hamlets_words"
   ]
  },
  {
   "cell_type": "markdown",
   "id": "03f1a852",
   "metadata": {},
   "source": [
    "We can use the `join` method of strings to join these words together with a space (\" \") between each word:"
   ]
  },
  {
   "cell_type": "code",
   "execution_count": null,
   "id": "dc4c68b8",
   "metadata": {},
   "outputs": [],
   "source": [
    "\" \".join(hamlets_words)"
   ]
  },
  {
   "cell_type": "markdown",
   "id": "644ca27f",
   "metadata": {},
   "source": [
    "## Indexing with integers\n",
    "\n",
    "Use indexing with integers to set `first_word` to contain the first word in\n",
    "`hamlets_words`."
   ]
  },
  {
   "cell_type": "code",
   "execution_count": null,
   "id": "5a52fa39",
   "metadata": {},
   "outputs": [],
   "source": [
    "first_word = ...\n",
    "first_word"
   ]
  },
  {
   "cell_type": "markdown",
   "id": "bf5fdce7",
   "metadata": {},
   "source": [
    "Test the result:"
   ]
  },
  {
   "cell_type": "code",
   "execution_count": null,
   "id": "9508e16e",
   "metadata": {},
   "outputs": [],
   "source": [
    "_ = ok.grade('q_first_word')"
   ]
  },
  {
   "cell_type": "markdown",
   "id": "6acd7ae0",
   "metadata": {},
   "source": [
    "Use indexing with integers to set `funny_word` to have the value \"marrow\"."
   ]
  },
  {
   "cell_type": "code",
   "execution_count": null,
   "id": "b2bbee63",
   "metadata": {},
   "outputs": [],
   "source": [
    "funny_word = ...\n",
    "funny_word"
   ]
  },
  {
   "cell_type": "markdown",
   "id": "4606c11f",
   "metadata": {},
   "source": [
    "Test the result:"
   ]
  },
  {
   "cell_type": "code",
   "execution_count": null,
   "id": "baaf2a2f",
   "metadata": {},
   "outputs": [],
   "source": [
    "_ = ok.grade('q_funny_word')"
   ]
  },
  {
   "cell_type": "markdown",
   "id": "c29367dc",
   "metadata": {},
   "source": [
    "Make a Boolean array `bees` that has `True` where the word in the matching\n",
    "position of `hamlets_words` is \"be\":"
   ]
  },
  {
   "cell_type": "code",
   "execution_count": null,
   "id": "6ecbf5ed",
   "metadata": {},
   "outputs": [],
   "source": [
    "bees = hamlets_words...\n",
    "bees"
   ]
  },
  {
   "cell_type": "code",
   "execution_count": null,
   "id": "c7cab960",
   "metadata": {},
   "outputs": [],
   "source": [
    "_ = ok.grade('q_bees')"
   ]
  },
  {
   "cell_type": "markdown",
   "id": "95387931",
   "metadata": {},
   "source": [
    "Use `np.count_nonzero` to set `n_bees` to have the number of times the word \"be\" appears in `hamlets_words`."
   ]
  },
  {
   "cell_type": "code",
   "execution_count": null,
   "id": "a2fc0ffa",
   "metadata": {},
   "outputs": [],
   "source": [
    "n_bees = ...\n",
    "n_bees"
   ]
  },
  {
   "cell_type": "code",
   "execution_count": null,
   "id": "dfe8e0b3",
   "metadata": {},
   "outputs": [],
   "source": [
    "_ = ok.grade('q_n_bees')"
   ]
  },
  {
   "cell_type": "markdown",
   "id": "d4e268ee",
   "metadata": {},
   "source": [
    "Run this cell to make a copy of `hamlets_words`. This uses the `copy` method of the array, to return a new copy."
   ]
  },
  {
   "cell_type": "code",
   "execution_count": null,
   "id": "348aab2b",
   "metadata": {},
   "outputs": [],
   "source": [
    "# Run this cell\n",
    "hamlet_improved = hamlets_words.copy()"
   ]
  },
  {
   "cell_type": "markdown",
   "id": "713d5935",
   "metadata": {},
   "source": [
    "Use array assignment with indexing, to replace the word \"marrow\" with the world \"mind\", in the `hamlet_improved` array"
   ]
  },
  {
   "cell_type": "code",
   "execution_count": null,
   "id": "3cf2be98",
   "metadata": {},
   "outputs": [],
   "source": [
    "hamlet_improved[.....\n",
    "hamlet_improved"
   ]
  },
  {
   "cell_type": "code",
   "execution_count": null,
   "id": "a5d44f92",
   "metadata": {},
   "outputs": [],
   "source": [
    "_ = ok.grade('q_hamlet_improved')"
   ]
  },
  {
   "cell_type": "markdown",
   "id": "e8c6b967",
   "metadata": {},
   "source": [
    "Run this cell to make a copy of `hamlet_improved` to finish up your work of fixing."
   ]
  },
  {
   "cell_type": "code",
   "execution_count": null,
   "id": "bd2494ff",
   "metadata": {},
   "outputs": [],
   "source": [
    "# Run this cell\n",
    "hamlet_fixed = hamlet_improved.copy()"
   ]
  },
  {
   "cell_type": "markdown",
   "id": "ab041319",
   "metadata": {},
   "source": [
    "Use array assignment with indexing to fix the remaining words in the\n",
    "`hamlet_fixed` quote, and then set `hamlet_joined` to the result of joining\n",
    "the words with a space.\n",
    "\n",
    "You will likely need a few lines here."
   ]
  },
  {
   "cell_type": "code",
   "execution_count": null,
   "id": "c0665297",
   "metadata": {},
   "outputs": [],
   "source": [
    "hamlet_fixed[...\n",
    "...\n",
    "hamlet_joined = ...\n",
    "hamlet_joined"
   ]
  },
  {
   "cell_type": "code",
   "execution_count": null,
   "id": "cededb41",
   "metadata": {},
   "outputs": [],
   "source": [
    "_ = ok.grade('q_hamlet_joined')"
   ]
  }
 ],
 "metadata": {
  "jupytext": {
   "notebook_metadata_filter": "language_info",
   "text_representation": {
    "extension": ".Rmd",
    "format_name": "rmarkdown",
    "format_version": "1.2",
    "jupytext_version": "1.10.3"
   }
  },
  "kernelspec": {
   "display_name": "Python 3 (ipykernel)",
   "language": "python",
   "name": "python3"
  },
  "language_info": {
   "codemirror_mode": {
    "name": "ipython",
    "version": 3
   },
   "file_extension": ".py",
   "mimetype": "text/x-python",
   "name": "python",
   "nbconvert_exporter": "python",
   "pygments_lexer": "ipython3",
   "version": "3.8.11"
  }
 },
 "nbformat": 4,
 "nbformat_minor": 5
}
