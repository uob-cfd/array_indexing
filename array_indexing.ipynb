{
 "cells": [
  {
   "cell_type": "markdown",
   "id": "ba1d9b6d",
   "metadata": {},
   "source": [
    "# Array indexing exercises\n",
    "\n",
    "These exercises follow on from the [array indexing page](https://uob-ds.github.io/cfd2021/arrays/array_indexing).\n",
    "\n",
    "Run this cell to start:"
   ]
  },
  {
   "cell_type": "code",
   "execution_count": null,
   "id": "cba2dbaa",
   "metadata": {},
   "outputs": [],
   "source": [
    "# Don't change this cell; just run it.\n",
    "import numpy as np\n",
    "\n",
    "# The OKpy testing system.\n",
    "from client.api.notebook import Notebook\n",
    "ok = Notebook('array_indexing.ok')"
   ]
  },
  {
   "cell_type": "markdown",
   "id": "874d8f51",
   "metadata": {},
   "source": [
    "Here is the beginning of Hamlet's famous speech:\n",
    "\n",
    "> To be, or not to be, that is the question:\n",
    "> Whether 'tis nobler in the mind to suffer\n",
    "> The slings and arrows of outrageous fortune,\n",
    "\n",
    "And here is a slightly wrong version, as an array of words, and without the punctuation:"
   ]
  },
  {
   "cell_type": "code",
   "execution_count": null,
   "id": "51decb62",
   "metadata": {},
   "outputs": [],
   "source": [
    "# A quote that isn't quite right.\n",
    "hamlets_words = np.array(['to', 'be', 'or', 'not', 'to', 'be',\n",
    "                          'that', 'be', 'the', 'question',\n",
    "                          'whether', 'be', 'nobler', 'in', 'the', 'marrow',\n",
    "                          'to', 'suffer', 'the', 'slings', 'and', 'arrows',\n",
    "                          'of', 'outrageous', 'fortune'])\n",
    "hamlets_words"
   ]
  },
  {
   "cell_type": "markdown",
   "id": "5591eb8f",
   "metadata": {},
   "source": [
    "We can use the `join` method of strings to join these words together with a space (\" \") between each word:"
   ]
  },
  {
   "cell_type": "code",
   "execution_count": null,
   "id": "b8445459",
   "metadata": {},
   "outputs": [],
   "source": [
    "\" \".join(hamlets_words)"
   ]
  },
  {
   "cell_type": "markdown",
   "id": "597de145",
   "metadata": {},
   "source": [
    "## Indexing with integers\n",
    "\n",
    "Use indexing with integers to set `first_word` to contain the first word in\n",
    "`hamlets_words`."
   ]
  },
  {
   "cell_type": "code",
   "execution_count": null,
   "id": "dd7de46f",
   "metadata": {},
   "outputs": [],
   "source": [
    "first_word = ...\n",
    "first_word"
   ]
  },
  {
   "cell_type": "markdown",
   "id": "0d242d48",
   "metadata": {},
   "source": [
    "Test the result:"
   ]
  },
  {
   "cell_type": "code",
   "execution_count": null,
   "id": "15fabbdc",
   "metadata": {},
   "outputs": [],
   "source": [
    "_ = ok.grade('q_first_word')"
   ]
  },
  {
   "cell_type": "markdown",
   "id": "ffe4fe38",
   "metadata": {},
   "source": [
    "Use indexing with integers to set `funny_word` to have the value \"marrow\"."
   ]
  },
  {
   "cell_type": "code",
   "execution_count": null,
   "id": "83abee6c",
   "metadata": {},
   "outputs": [],
   "source": [
    "funny_word = ...\n",
    "funny_word"
   ]
  },
  {
   "cell_type": "markdown",
   "id": "40838d25",
   "metadata": {},
   "source": [
    "Test the result:"
   ]
  },
  {
   "cell_type": "code",
   "execution_count": null,
   "id": "8d1e7bb0",
   "metadata": {},
   "outputs": [],
   "source": [
    "_ = ok.grade('q_funny_word')"
   ]
  },
  {
   "cell_type": "markdown",
   "id": "f1b0820f",
   "metadata": {},
   "source": [
    "Make a Boolean array `bees` that has `True` where the word in the matching\n",
    "position of `hamlets_words` is \"be\":"
   ]
  },
  {
   "cell_type": "code",
   "execution_count": null,
   "id": "0f4e7def",
   "metadata": {},
   "outputs": [],
   "source": [
    "bees = hamlets_words...\n",
    "bees"
   ]
  },
  {
   "cell_type": "code",
   "execution_count": null,
   "id": "4c7702f0",
   "metadata": {},
   "outputs": [],
   "source": [
    "_ = ok.grade('q_bees')"
   ]
  },
  {
   "cell_type": "markdown",
   "id": "1313cca1",
   "metadata": {},
   "source": [
    "Use `np.count_nonzero` to set `n_bees` to have the number of times the word \"be\" appears in `hamlets_words`."
   ]
  },
  {
   "cell_type": "code",
   "execution_count": null,
   "id": "9b7eb1e7",
   "metadata": {},
   "outputs": [],
   "source": [
    "n_bees = ...\n",
    "n_bees"
   ]
  },
  {
   "cell_type": "code",
   "execution_count": null,
   "id": "2965426b",
   "metadata": {},
   "outputs": [],
   "source": [
    "_ = ok.grade('q_n_bees')"
   ]
  },
  {
   "cell_type": "markdown",
   "id": "c93e12fa",
   "metadata": {},
   "source": [
    "Run this cell to make a copy of `hamlets_words`. This uses the `copy` method of the array, to return a new copy."
   ]
  },
  {
   "cell_type": "code",
   "execution_count": null,
   "id": "f0be5a63",
   "metadata": {},
   "outputs": [],
   "source": [
    "# Run this cell\n",
    "hamlet_improved = hamlets_words.copy()"
   ]
  },
  {
   "cell_type": "markdown",
   "id": "5a733789",
   "metadata": {},
   "source": [
    "Use array assignment with indexing, to replace the word \"marrow\" with the world \"mind\", in the `hamlet_improved` array"
   ]
  },
  {
   "cell_type": "code",
   "execution_count": null,
   "id": "be60fe97",
   "metadata": {},
   "outputs": [],
   "source": [
    "hamlet_improved[.....\n",
    "hamlet_improved"
   ]
  },
  {
   "cell_type": "code",
   "execution_count": null,
   "id": "3f01f30a",
   "metadata": {},
   "outputs": [],
   "source": [
    "_ = ok.grade('q_hamlet_improved')"
   ]
  },
  {
   "cell_type": "markdown",
   "id": "917efa53",
   "metadata": {},
   "source": [
    "Run this cell to make a copy of `hamlet_improved` to finish up your work of fixing."
   ]
  },
  {
   "cell_type": "code",
   "execution_count": null,
   "id": "ec935739",
   "metadata": {},
   "outputs": [],
   "source": [
    "# Run this cell\n",
    "hamlet_fixed = hamlet_improved.copy()"
   ]
  },
  {
   "cell_type": "markdown",
   "id": "85dad2bb",
   "metadata": {},
   "source": [
    "Use array assignment with indexing to fix the remaining words in the\n",
    "`hamlet_fixed` quote, and then set `hamlet_joined` to the result of joining\n",
    "the words with a space.\n",
    "\n",
    "You will likely need a few lines here."
   ]
  },
  {
   "cell_type": "code",
   "execution_count": null,
   "id": "672d9da7",
   "metadata": {},
   "outputs": [],
   "source": [
    "hamlet_fixed[...\n",
    "...\n",
    "hamlet_joined = ...\n",
    "hamlet_joined"
   ]
  },
  {
   "cell_type": "code",
   "execution_count": null,
   "id": "6becfacd",
   "metadata": {},
   "outputs": [],
   "source": [
    "_ = ok.grade('q_hamlet_joined')"
   ]
  }
 ],
 "metadata": {
  "jupytext": {
   "notebook_metadata_filter": "language_info",
   "text_representation": {
    "extension": ".Rmd",
    "format_name": "rmarkdown",
    "format_version": "1.0",
    "jupytext_version": "0.8.5"
   }
  },
  "kernelspec": {
   "display_name": "Python 3",
   "language": "python",
   "name": "python3"
  },
  "language_info": {
   "codemirror_mode": {
    "name": "ipython",
    "version": 3
   },
   "file_extension": ".py",
   "mimetype": "text/x-python",
   "name": "python",
   "nbconvert_exporter": "python",
   "pygments_lexer": "ipython3",
   "version": "3.7.1"
  }
 },
 "nbformat": 4,
 "nbformat_minor": 5
}
